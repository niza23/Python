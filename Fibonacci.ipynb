{
 "cells": [
  {
   "cell_type": "code",
   "execution_count": 1,
   "id": "60ff0fa6",
   "metadata": {},
   "outputs": [
    {
     "name": "stdout",
     "output_type": "stream",
     "text": [
      "Enter The First Numbers4\n",
      "Enter The First Numbers5\n",
      "Enter The limit of fibonacci9\n",
      "4 5 9 14 23 37 60 97 157 254 411 "
     ]
    }
   ],
   "source": [
    "x=int(input(\"Enter The First Numbers\"))\n",
    "y=int(input(\"Enter The First Numbers\"))\n",
    "z=int(input(\"Enter The limit of fibonacci\"))\n",
    "print(x,end=\" \")\n",
    "print(y,end=\" \")\n",
    "for i in range(z):\n",
    "    c=x+y\n",
    "    print(c,end=\" \")\n",
    "    x=y\n",
    "    y=c"
   ]
  },
  {
   "cell_type": "code",
   "execution_count": null,
   "id": "827619cf",
   "metadata": {},
   "outputs": [],
   "source": []
  }
 ],
 "metadata": {
  "kernelspec": {
   "display_name": "Python 3",
   "language": "python",
   "name": "python3"
  },
  "language_info": {
   "codemirror_mode": {
    "name": "ipython",
    "version": 3
   },
   "file_extension": ".py",
   "mimetype": "text/x-python",
   "name": "python",
   "nbconvert_exporter": "python",
   "pygments_lexer": "ipython3",
   "version": "3.8.8"
  }
 },
 "nbformat": 4,
 "nbformat_minor": 5
}
