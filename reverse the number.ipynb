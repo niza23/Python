{
 "cells": [
  {
   "cell_type": "code",
   "execution_count": 1,
   "id": "9ad1629c",
   "metadata": {},
   "outputs": [
    {
     "name": "stdout",
     "output_type": "stream",
     "text": [
      "Enter Number To Be Reversed542\n",
      "Before Reverse Your Number Is : 542\n",
      "After Reverse : 245\n"
     ]
    }
   ],
   "source": [
    "n=int(input(\"Enter Number To Be Reversed \"))\n",
    "print(\"Before Reverse Your Number Is : %d\" %n)\n",
    "reverse=0\n",
    "while n!=0:\n",
    "    reverse=reverse*10 + n%10\n",
    "    n=n//10\n",
    "    \n",
    "print(\"After Reverse : %d\" %reverse)\n"
   ]
  },
  {
   "cell_type": "code",
   "execution_count": null,
   "id": "eaf4da8d",
   "metadata": {},
   "outputs": [],
   "source": []
  }
 ],
 "metadata": {
  "kernelspec": {
   "display_name": "Python 3",
   "language": "python",
   "name": "python3"
  },
  "language_info": {
   "codemirror_mode": {
    "name": "ipython",
    "version": 3
   },
   "file_extension": ".py",
   "mimetype": "text/x-python",
   "name": "python",
   "nbconvert_exporter": "python",
   "pygments_lexer": "ipython3",
   "version": "3.8.8"
  }
 },
 "nbformat": 4,
 "nbformat_minor": 5
}
