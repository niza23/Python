{
 "cells": [
  {
   "cell_type": "code",
   "execution_count": null,
   "id": "c0b0c815",
   "metadata": {},
   "outputs": [],
   "source": [
    "x=int(input(\"Enter Number which you want to check pallindrome or not\"))\n",
    "y=x\n",
    "reverse=0\n",
    "while(x!=0):\n",
    "    reverse=reverse*10 + x%10\n",
    "    x=x//10\n",
    "\n",
    "if(y==reverse):\n",
    "    print(\"Pallindrome\")\n",
    "else:\n",
    "    print(\"Not Pallindrome\")"
   ]
  }
 ],
 "metadata": {
  "kernelspec": {
   "display_name": "Python 3",
   "language": "python",
   "name": "python3"
  },
  "language_info": {
   "codemirror_mode": {
    "name": "ipython",
    "version": 3
   },
   "file_extension": ".py",
   "mimetype": "text/x-python",
   "name": "python",
   "nbconvert_exporter": "python",
   "pygments_lexer": "ipython3",
   "version": "3.8.8"
  }
 },
 "nbformat": 4,
 "nbformat_minor": 5
}
