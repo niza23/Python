{
 "cells": [
  {
   "cell_type": "code",
   "execution_count": 1,
   "id": "55249ff6",
   "metadata": {},
   "outputs": [
    {
     "name": "stdout",
     "output_type": "stream",
     "text": [
      "45\n"
     ]
    }
   ],
   "source": [
    "def Add(x,y):\n",
    "    while(y!=0):\n",
    "        carry=x&y\n",
    "        x=x^y\n",
    "        y=carry << 1\n",
    "    return x\n",
    "\n",
    "print((Add(15,30)))"
   ]
  },
  {
   "cell_type": "code",
   "execution_count": null,
   "id": "a8128ca1",
   "metadata": {},
   "outputs": [],
   "source": []
  }
 ],
 "metadata": {
  "kernelspec": {
   "display_name": "Python 3",
   "language": "python",
   "name": "python3"
  },
  "language_info": {
   "codemirror_mode": {
    "name": "ipython",
    "version": 3
   },
   "file_extension": ".py",
   "mimetype": "text/x-python",
   "name": "python",
   "nbconvert_exporter": "python",
   "pygments_lexer": "ipython3",
   "version": "3.8.8"
  }
 },
 "nbformat": 4,
 "nbformat_minor": 5
}
