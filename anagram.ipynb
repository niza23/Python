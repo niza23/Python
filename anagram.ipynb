{
 "cells": [
  {
   "cell_type": "code",
   "execution_count": null,
   "id": "27a6817c",
   "metadata": {},
   "outputs": [],
   "source": [
    "def anagramCheck(str1,str2):\n",
    "    if(sorted(str1)==sorted(str2)):\n",
    "        return 1\n",
    "    else:\n",
    "        return 2\n",
    "    \n",
    "str1=input(\"Enter 1st Number \")\n",
    "str2=input(\"Enter 2nd Number \")\n",
    "if anagramCheck(str1,str2):\n",
    "    print(\"Anagram\")\n",
    "else:\n",
    "    print(\"Not a Anagram\")"
   ]
  }
 ],
 "metadata": {
  "kernelspec": {
   "display_name": "Python 3",
   "language": "python",
   "name": "python3"
  },
  "language_info": {
   "codemirror_mode": {
    "name": "ipython",
    "version": 3
   },
   "file_extension": ".py",
   "mimetype": "text/x-python",
   "name": "python",
   "nbconvert_exporter": "python",
   "pygments_lexer": "ipython3",
   "version": "3.8.8"
  }
 },
 "nbformat": 4,
 "nbformat_minor": 5
}
