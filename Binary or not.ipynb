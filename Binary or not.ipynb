{
 "cells": [
  {
   "cell_type": "code",
   "execution_count": null,
   "id": "7eda7ba4",
   "metadata": {},
   "outputs": [],
   "source": [
    "n=int(input(\"Enter The Number you want to check is binary or not \"))\n",
    "f=1\n",
    "while(n>0):\n",
    "    x=n%10\n",
    "    if(x!=1 or x!=0):\n",
    "        print(\"Not a Binary Number\")\n",
    "        break\n",
    "    n=n//10\n",
    "    if n==0:\n",
    "        print(\"n is binary\")"
   ]
  }
 ],
 "metadata": {
  "kernelspec": {
   "display_name": "Python 3",
   "language": "python",
   "name": "python3"
  },
  "language_info": {
   "codemirror_mode": {
    "name": "ipython",
    "version": 3
   },
   "file_extension": ".py",
   "mimetype": "text/x-python",
   "name": "python",
   "nbconvert_exporter": "python",
   "pygments_lexer": "ipython3",
   "version": "3.8.8"
  }
 },
 "nbformat": 4,
 "nbformat_minor": 5
}
