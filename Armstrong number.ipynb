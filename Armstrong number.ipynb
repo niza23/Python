{
 "cells": [
  {
   "cell_type": "code",
   "execution_count": null,
   "id": "4f605e5b",
   "metadata": {},
   "outputs": [],
   "source": [
    "n=int(input(\"Enter That Integer\"))\n",
    "m=n\n",
    "sum=0\n",
    "while n!=0:\n",
    "    x=n%10\n",
    "    y=x*x*x\n",
    "    sum=sum+y\n",
    "    n=n//10\n",
    "    \n",
    "if(m==sum):\n",
    "    print(\"It is Armstrong Number\")\n",
    "else:\n",
    "    print(\"It is Not An Armstrong Number \")"
   ]
  },
  {
   "cell_type": "code",
   "execution_count": null,
   "id": "484489ee",
   "metadata": {},
   "outputs": [],
   "source": []
  }
 ],
 "metadata": {
  "kernelspec": {
   "display_name": "Python 3",
   "language": "python",
   "name": "python3"
  },
  "language_info": {
   "codemirror_mode": {
    "name": "ipython",
    "version": 3
   },
   "file_extension": ".py",
   "mimetype": "text/x-python",
   "name": "python",
   "nbconvert_exporter": "python",
   "pygments_lexer": "ipython3",
   "version": "3.8.8"
  }
 },
 "nbformat": 4,
 "nbformat_minor": 5
}
