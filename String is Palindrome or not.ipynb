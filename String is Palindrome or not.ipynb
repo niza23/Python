{
 "cells": [
  {
   "cell_type": "code",
   "execution_count": null,
   "id": "0b2ae237",
   "metadata": {},
   "outputs": [],
   "source": [
    "s=input(\"Enter A The String is Palindrome \")\n",
    "a=len(s)\n",
    "f=0\n",
    "\n",
    "for i in range(a):\n",
    "    if(s[i]==s[a-i-1]):\n",
    "        f=1\n",
    "    else:\n",
    "        f=0\n",
    "        break\n",
    "    \n",
    "if(f==1):\n",
    "    print(\"Its Palindrome\")\n",
    "else:\n",
    "    print(\"Its not  Palindrome\")"
   ]
  }
 ],
 "metadata": {
  "kernelspec": {
   "display_name": "Python 3",
   "language": "python",
   "name": "python3"
  },
  "language_info": {
   "codemirror_mode": {
    "name": "ipython",
    "version": 3
   },
   "file_extension": ".py",
   "mimetype": "text/x-python",
   "name": "python",
   "nbconvert_exporter": "python",
   "pygments_lexer": "ipython3",
   "version": "3.8.8"
  }
 },
 "nbformat": 4,
 "nbformat_minor": 5
}
